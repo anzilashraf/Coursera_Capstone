{
    "cells": [
        {
            "cell_type": "markdown",
            "metadata": {
                "collapsed": true
            },
            "source": "# The Battle of Neighborhoods | Data description"
        },
        {
            "cell_type": "markdown",
            "metadata": {},
            "source": "This project use Scarborough dataset scrapped from wikipedia. This data consists of\n##### 1. Postal codes\n##### 2. Borough\n##### 3. Neighborhood\n\nData link:  https://en.wikipedia.org/wiki/List_of_postal_codes_of_Canada:_M\n\nAfter scrapping data from wikipedia we include its latitude and longitude details. \n\nFor specific borough we need data about different venues in different neighborhoods. To gather that information we use Four Square API. Foursquare is a location data provider with information about all manner of venues and events within an area of interest. \n\nAfter finding the list of neighborhoods around Scarborough, connect it to the Foursquare API to gather information about venues inside each and every neighborhood. For each neighborhood, we have chosen the radius to be 100 meter.\n\nThe data retrieved from Foursquare contained information of venues within a specified distance of the longitude and latitude of the postcodes. The information obtained per venue as follows:\n\n##### 1. Neighborhood\n##### 2. Neighborhood Latitude\n##### 3. Neighborhood Longitude\n##### 4. Venue\n##### 5. Name of the venue e.g. the name of a store or restaurant\n##### 6. Venue Latitude\n##### 7. Venue Longitude\n##### 8. Venue Category"
        },
        {
            "cell_type": "code",
            "execution_count": null,
            "metadata": {},
            "outputs": [],
            "source": ""
        }
    ],
    "metadata": {
        "kernelspec": {
            "display_name": "Python 3.6",
            "language": "python",
            "name": "python3"
        },
        "language_info": {
            "codemirror_mode": {
                "name": "ipython",
                "version": 3
            },
            "file_extension": ".py",
            "mimetype": "text/x-python",
            "name": "python",
            "nbconvert_exporter": "python",
            "pygments_lexer": "ipython3",
            "version": "3.6.9"
        }
    },
    "nbformat": 4,
    "nbformat_minor": 1
}