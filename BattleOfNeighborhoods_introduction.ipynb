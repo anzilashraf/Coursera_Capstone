{
    "cells": [
        {
            "cell_type": "markdown",
            "metadata": {
                "collapsed": true
            },
            "source": "# The Battle of Neighborhoods | Problem Description"
        },
        {
            "cell_type": "markdown",
            "metadata": {},
            "source": "## Introduction"
        },
        {
            "cell_type": "markdown",
            "metadata": {},
            "source": "We know that people migrate to different cities in search of jobs, education or due to some business requirements. While shifting many people are concerened about the neighborhood around the particular location. They always aware of how easily can access hospital, groceries, schools for children, medical shops, shopping mall, theatre and also about the crime rates and housing prices.\nThe need of this project is to explore the facilities around the neighborhood for people who are moving out. This project focussed on the neighborhood dataset of Scarborough and its features.Scarborough is one of the popular destination for new immigrants in Canada to reside."
        },
        {
            "cell_type": "markdown",
            "metadata": {},
            "source": "## Aim"
        },
        {
            "cell_type": "markdown",
            "metadata": {},
            "source": "The major aim of this project is to suggest a better neighborhood for people who are moving in to new city.\n 1. To sort list of house in terms of housing price\n 2. To sort list of schools in terms of ratings, reviews and fees."
        },
        {
            "cell_type": "markdown",
            "metadata": {},
            "source": "## Work flow"
        },
        {
            "cell_type": "markdown",
            "metadata": {},
            "source": "### Four Square API\nThis project make use of Four Square API for data gathering. It has a collection of millions of places and its API which helps to perform location search, location sharing and business details. Due to some constraints http request for number of places per neighborhood parameter be set to 100 and radius set to 500.\n\n### Clustering\nTo compare similarities of two cities we need to explore its neighborhood, segment and finally group them to clusters. From this clusters we can find the feature of neighborhoods. Unsupervised machine learning K-means clustering technique is used to cluster the data. \n\n### Libraries used\nPandas: For creating and manipulating dataframes.\n\nFolium: Python visualization library would be used to visualize the neighborhoods cluster distribution of using interactive leaflet map.\n\nScikit Learn: For importing k-means clustering.\n\nJSON: Library to handle JSON files.\n\nXML: To separate data from presentation and XML stores data in plain text format.\n\nGeocoder: To retrieve Location Data.\n\nBeautiful Soup and Requests: To scrap and library to handle http requests.\n\nMatplotlib: Python Plotting Module.\n\n"
        },
        {
            "cell_type": "code",
            "execution_count": null,
            "metadata": {},
            "outputs": [],
            "source": ""
        }
    ],
    "metadata": {
        "kernelspec": {
            "display_name": "Python 3.6",
            "language": "python",
            "name": "python3"
        },
        "language_info": {
            "codemirror_mode": {
                "name": "ipython",
                "version": 3
            },
            "file_extension": ".py",
            "mimetype": "text/x-python",
            "name": "python",
            "nbconvert_exporter": "python",
            "pygments_lexer": "ipython3",
            "version": "3.6.9"
        }
    },
    "nbformat": 4,
    "nbformat_minor": 1
}